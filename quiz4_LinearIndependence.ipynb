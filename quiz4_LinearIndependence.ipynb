{
 "cells": [
  {
   "cell_type": "code",
   "execution_count": 1,
   "metadata": {},
   "outputs": [],
   "source": [
    "import pandas as pd\n",
    "\n",
    "\n",
    "x1 = pd.read_excel(\"quiz4data.xlsx\",sheet_name=\"x1\")\n",
    "x2 = pd.read_excel(\"quiz4data.xlsx\",sheet_name=\"x2\")\n"
   ]
  },
  {
   "cell_type": "code",
   "execution_count": 2,
   "metadata": {},
   "outputs": [
    {
     "data": {
      "text/html": [
       "<div>\n",
       "<style scoped>\n",
       "    .dataframe tbody tr th:only-of-type {\n",
       "        vertical-align: middle;\n",
       "    }\n",
       "\n",
       "    .dataframe tbody tr th {\n",
       "        vertical-align: top;\n",
       "    }\n",
       "\n",
       "    .dataframe thead th {\n",
       "        text-align: right;\n",
       "    }\n",
       "</style>\n",
       "<table border=\"1\" class=\"dataframe\">\n",
       "  <thead>\n",
       "    <tr style=\"text-align: right;\">\n",
       "      <th></th>\n",
       "      <th>feat1</th>\n",
       "      <th>feat2</th>\n",
       "      <th>feat3</th>\n",
       "      <th>feat4</th>\n",
       "    </tr>\n",
       "  </thead>\n",
       "  <tbody>\n",
       "    <tr>\n",
       "      <th>0</th>\n",
       "      <td>-10</td>\n",
       "      <td>10</td>\n",
       "      <td>2</td>\n",
       "      <td>4</td>\n",
       "    </tr>\n",
       "    <tr>\n",
       "      <th>1</th>\n",
       "      <td>-4</td>\n",
       "      <td>-1</td>\n",
       "      <td>2</td>\n",
       "      <td>-6</td>\n",
       "    </tr>\n",
       "    <tr>\n",
       "      <th>2</th>\n",
       "      <td>5</td>\n",
       "      <td>-8</td>\n",
       "      <td>2</td>\n",
       "      <td>-1</td>\n",
       "    </tr>\n",
       "    <tr>\n",
       "      <th>3</th>\n",
       "      <td>5</td>\n",
       "      <td>4</td>\n",
       "      <td>10</td>\n",
       "      <td>1</td>\n",
       "    </tr>\n",
       "    <tr>\n",
       "      <th>4</th>\n",
       "      <td>8</td>\n",
       "      <td>-7</td>\n",
       "      <td>9</td>\n",
       "      <td>-3</td>\n",
       "    </tr>\n",
       "    <tr>\n",
       "      <th>5</th>\n",
       "      <td>-2</td>\n",
       "      <td>-5</td>\n",
       "      <td>5</td>\n",
       "      <td>2</td>\n",
       "    </tr>\n",
       "  </tbody>\n",
       "</table>\n",
       "</div>"
      ],
      "text/plain": [
       "   feat1  feat2  feat3  feat4\n",
       "0    -10     10      2      4\n",
       "1     -4     -1      2     -6\n",
       "2      5     -8      2     -1\n",
       "3      5      4     10      1\n",
       "4      8     -7      9     -3\n",
       "5     -2     -5      5      2"
      ]
     },
     "execution_count": 2,
     "metadata": {},
     "output_type": "execute_result"
    }
   ],
   "source": [
    "x1"
   ]
  },
  {
   "cell_type": "code",
   "execution_count": 3,
   "metadata": {},
   "outputs": [
    {
     "data": {
      "text/html": [
       "<div>\n",
       "<style scoped>\n",
       "    .dataframe tbody tr th:only-of-type {\n",
       "        vertical-align: middle;\n",
       "    }\n",
       "\n",
       "    .dataframe tbody tr th {\n",
       "        vertical-align: top;\n",
       "    }\n",
       "\n",
       "    .dataframe thead th {\n",
       "        text-align: right;\n",
       "    }\n",
       "</style>\n",
       "<table border=\"1\" class=\"dataframe\">\n",
       "  <thead>\n",
       "    <tr style=\"text-align: right;\">\n",
       "      <th></th>\n",
       "      <th>feat1</th>\n",
       "      <th>feat2</th>\n",
       "      <th>feat3</th>\n",
       "      <th>feat4</th>\n",
       "    </tr>\n",
       "  </thead>\n",
       "  <tbody>\n",
       "    <tr>\n",
       "      <th>0</th>\n",
       "      <td>-6</td>\n",
       "      <td>8</td>\n",
       "      <td>-7</td>\n",
       "      <td>-4</td>\n",
       "    </tr>\n",
       "    <tr>\n",
       "      <th>1</th>\n",
       "      <td>-6</td>\n",
       "      <td>10</td>\n",
       "      <td>-7</td>\n",
       "      <td>-9</td>\n",
       "    </tr>\n",
       "    <tr>\n",
       "      <th>2</th>\n",
       "      <td>3</td>\n",
       "      <td>10</td>\n",
       "      <td>-2</td>\n",
       "      <td>-9</td>\n",
       "    </tr>\n",
       "    <tr>\n",
       "      <th>3</th>\n",
       "      <td>8</td>\n",
       "      <td>3</td>\n",
       "      <td>-6</td>\n",
       "      <td>-2</td>\n",
       "    </tr>\n",
       "    <tr>\n",
       "      <th>4</th>\n",
       "      <td>-4</td>\n",
       "      <td>-4</td>\n",
       "      <td>-10</td>\n",
       "      <td>-7</td>\n",
       "    </tr>\n",
       "    <tr>\n",
       "      <th>5</th>\n",
       "      <td>-9</td>\n",
       "      <td>-4</td>\n",
       "      <td>4</td>\n",
       "      <td>2</td>\n",
       "    </tr>\n",
       "  </tbody>\n",
       "</table>\n",
       "</div>"
      ],
      "text/plain": [
       "   feat1  feat2  feat3  feat4\n",
       "0     -6      8     -7     -4\n",
       "1     -6     10     -7     -9\n",
       "2      3     10     -2     -9\n",
       "3      8      3     -6     -2\n",
       "4     -4     -4    -10     -7\n",
       "5     -9     -4      4      2"
      ]
     },
     "execution_count": 3,
     "metadata": {},
     "output_type": "execute_result"
    }
   ],
   "source": [
    "x2"
   ]
  },
  {
   "cell_type": "code",
   "execution_count": 4,
   "metadata": {},
   "outputs": [],
   "source": [
    "covMatrixX1 = pd.DataFrame.cov(x1)\n",
    "covMatrixX2 = pd.DataFrame.cov(x2)\n",
    "covMatrixX1X2 = covMatrixX1+covMatrixX2\n",
    "\n",
    "import numpy as np"
   ]
  },
  {
   "cell_type": "code",
   "execution_count": 6,
   "metadata": {},
   "outputs": [
    {
     "name": "stdout",
     "output_type": "stream",
     "text": [
      "           feat1      feat2  feat3  feat4\n",
      "feat1  46.666667 -31.933333   16.8   -8.6\n",
      "feat2 -31.933333  49.366667   -2.2   13.1\n",
      "feat3  16.800000  -2.200000   13.6    0.4\n",
      "feat4  -8.600000  13.100000    0.4   13.1\n",
      "           feat1      feat2      feat3      feat4\n",
      "feat1  41.866667  10.333333  -6.266667  -4.533333\n",
      "feat2  10.333333  43.366667  -6.533333 -17.366667\n",
      "feat3  -6.266667  -6.533333  24.666667  12.733333\n",
      "feat4  -4.533333 -17.366667  12.733333  18.966667\n",
      "           feat1      feat2      feat3      feat4\n",
      "feat1  88.533333 -21.600000  10.533333 -13.133333\n",
      "feat2 -21.600000  92.733333  -8.733333  -4.266667\n",
      "feat3  10.533333  -8.733333  38.266667  13.133333\n",
      "feat4 -13.133333  -4.266667  13.133333  32.066667\n"
     ]
    }
   ],
   "source": [
    "print(covMatrixX1)\n",
    "print(covMatrixX2)\n",
    "print(covMatrixX1X2)"
   ]
  },
  {
   "cell_type": "code",
   "execution_count": 9,
   "metadata": {},
   "outputs": [
    {
     "data": {
      "text/plain": [
       "feat1    2.666667\n",
       "feat2   -5.000000\n",
       "feat3    9.666667\n",
       "feat4    4.333333\n",
       "dtype: float64"
      ]
     },
     "execution_count": 9,
     "metadata": {},
     "output_type": "execute_result"
    }
   ],
   "source": [
    "x1.mean() - x2.mean()"
   ]
  },
  {
   "cell_type": "code",
   "execution_count": 11,
   "metadata": {},
   "outputs": [
    {
     "name": "stdout",
     "output_type": "stream",
     "text": [
      "[[  7.11111113 -13.33333335  25.77777782  11.55555556]\n",
      " [-13.33333335  25.         -48.33333335 -21.66666665]\n",
      " [ 25.77777782 -48.33333335  93.44444451  41.88888887]\n",
      " [ 11.55555556 -21.66666665  41.88888887  18.77777775]]\n"
     ]
    }
   ],
   "source": [
    "covarianceMAtrix = np.array([[2.66666667],[-5],[9.66666667],[4.33333333]]).dot(np.array([[[2.66666667,-5,9.66666667,4.33333333]]]))\n",
    "\n",
    "Sbetween = np.array([covarianceMAtrix[0][0],covarianceMAtrix[1][0],covarianceMAtrix[2][0],covarianceMAtrix[3][0]])\n",
    "print(\"between class covariance matrix\")\n",
    "print(Sbetween)\n"
   ]
  },
  {
   "cell_type": "code",
   "execution_count": 13,
   "metadata": {},
   "outputs": [
    {
     "name": "stdout",
     "output_type": "stream",
     "text": [
      "combined [[ Sw-1 * Sb ]] covariance matrix\n",
      "[[ 6.82151637e-04 -1.27903432e-03  2.47279968e-03  1.10849641e-03]\n",
      " [-8.06323711e-02  1.51185696e-01 -2.92292345e-01 -1.31027603e-01]\n",
      " [ 6.22447989e-01 -1.16708998e+00  2.25637396e+00  1.01147798e+00]\n",
      " [ 9.49791927e-02 -1.78085986e-01  3.44299573e-01  1.54341188e-01]]\n"
     ]
    }
   ],
   "source": [
    "CovMatrixSwSb = np.dot(np.linalg.inv(covMatrixX1X2) , Sbetween)\n",
    "print(\"combined [[ Sw-1 * Sb ]] covariance matrix\")\n",
    "print(CovMatrixSwSb)"
   ]
  },
  {
   "cell_type": "code",
   "execution_count": 14,
   "metadata": {},
   "outputs": [
    {
     "name": "stdout",
     "output_type": "stream",
     "text": [
      "eigenvalues\n",
      "[ 0.00000000e+00  2.56258299e+00  6.68595512e-17 -9.20727801e-17]\n",
      "eigenvectors\n",
      "[[-0.9706468   0.0010746   0.51917922  0.46567359]\n",
      " [-0.0305498  -0.12702113  0.40297575  0.257066  ]\n",
      " [ 0.23583159  0.98054973  0.36164476 -0.3426333 ]\n",
      " [ 0.03598549  0.14962185 -0.66126889  0.77438208]]\n"
     ]
    }
   ],
   "source": [
    "eigVal, eigVec = np.linalg.eig(CovMatrixSwSb)\n",
    "print(\"eigenvalues\")\n",
    "print(eigVal)\n",
    "print(\"eigenvectors\")\n",
    "print(eigVec)\n"
   ]
  },
  {
   "cell_type": "code",
   "execution_count": 15,
   "metadata": {},
   "outputs": [
    {
     "name": "stdout",
     "output_type": "stream",
     "text": [
      "get Vector of eigenvalue=2.5625\n",
      "[ 0.0010746  -0.12702113  0.98054973  0.14962185]\n"
     ]
    }
   ],
   "source": [
    "W1 = eigVec[:,1]\n",
    "print(\"get Vector of eigenvalue=2.5625\")\n",
    "print(W1)"
   ]
  },
  {
   "cell_type": "code",
   "execution_count": 16,
   "metadata": {},
   "outputs": [
    {
     "name": "stdout",
     "output_type": "stream",
     "text": [
      "1.2786295157635172\n",
      "1.1860910707003027\n",
      "2.8330196968944152\n",
      "9.452407645356688\n",
      "9.273826785419415\n",
      "5.834948839326796\n",
      "-8.48495222833278\n",
      "-9.487103766342212\n",
      "-4.57468369059975\n",
      "-6.55500869248174\n",
      "-10.349064165951106\n",
      "4.71985576110163\n"
     ]
    }
   ],
   "source": [
    "allPoints = []\n",
    "for i in range(0,6):\n",
    "    print(x1.iloc[i].dot(W1))\n",
    "    allPoints.append(x1.iloc[i].dot(W1))\n",
    "for i in range(0,6):\n",
    "    print(x2.iloc[i].dot(W1))\n",
    "    allPoints.append(x2.iloc[i].dot(W1))"
   ]
  },
  {
   "cell_type": "code",
   "execution_count": 18,
   "metadata": {},
   "outputs": [],
   "source": [
    "Y_labels = [0,0,0,0,0,0,1,1,1,1,1,1]"
   ]
  },
  {
   "cell_type": "code",
   "execution_count": 24,
   "metadata": {},
   "outputs": [
    {
     "data": {
      "text/plain": [
       "Text(0.5, 0, 'Linear Projection')"
      ]
     },
     "execution_count": 24,
     "metadata": {},
     "output_type": "execute_result"
    },
    {
     "data": {
      "image/png": "[encoded data removed]",
      "text/plain": [
       "<Figure size 432x288 with 1 Axes>"
      ]
     },
     "metadata": {
      "needs_background": "light"
     },
     "output_type": "display_data"
    }
   ],
   "source": [
    "import matplotlib.pyplot as plt\n",
    "plt.scatter(allPoints, np.zeros(12), alpha=0.9,\n",
    "            s=10, c=Y_labels,)\n",
    "plt.vlines(np.mean(allPoints), -0.1, 0.1, linestyles =\"dashed\", colors =\"k\")\n",
    "plt.xlabel(\"Linear Projection\")"
   ]
  },
  {
   "cell_type": "markdown",
   "metadata": {},
   "source": [
    "\n",
    "<span style=\"color:black\"> *!!!! The 2 class is not linarly seperable.* </span>"
   ]
  },
  {
   "cell_type": "markdown",
   "metadata": {},
   "source": [
    "# SVM TEST ==>> FAİL"
   ]
  },
  {
   "cell_type": "code",
   "execution_count": 25,
   "metadata": {},
   "outputs": [
    {
     "data": {
      "text/plain": [
       "array([0, 0, 0, 0, 0, 0, 1, 1, 1, 1, 1, 1])"
      ]
     },
     "execution_count": 25,
     "metadata": {},
     "output_type": "execute_result"
    }
   ],
   "source": [
    "from sklearn.svm import SVC\n",
    "\n",
    "clf = SVC(C=9999999,gamma='auto',kernel='linear')\n",
    "\n",
    "Y = [0,0,0,0,0,0,1,1,1,1,1,1]\n",
    "all_feat = pd.concat([x1,x2])\n",
    "all_feat = all_feat.reset_index(drop=True)\n",
    "\n",
    "X_train = np.array(all_feat)\n",
    "Y_train = np.array(Y)\n",
    "\n",
    "clf.fit(X_train,Y_train)\n",
    "\n",
    "\n",
    "clf.predict(X_train)"
   ]
  },
  {
   "cell_type": "markdown",
   "metadata": {},
   "source": [
    "<span style=\"color:black\"> *The 2 class is  linarly seperable with SVM but it's not correct.* </span>"
   ]
  },
  {
   "cell_type": "markdown",
   "metadata": {},
   "source": [
    "# LDA TEST "
   ]
  },
  {
   "cell_type": "code",
   "execution_count": 26,
   "metadata": {},
   "outputs": [
    {
     "data": {
      "text/plain": [
       "array([0, 0, 0, 0, 0, 0, 1, 1, 1, 1, 1, 0])"
      ]
     },
     "execution_count": 26,
     "metadata": {},
     "output_type": "execute_result"
    }
   ],
   "source": [
    "from sklearn.discriminant_analysis import LinearDiscriminantAnalysis\n",
    "clf = LinearDiscriminantAnalysis()\n",
    "\n",
    "clf.fit(X_train,Y_train)\n",
    "\n",
    "clf.predict(X_train)\n",
    "\n"
   ]
  },
  {
   "cell_type": "markdown",
   "metadata": {},
   "source": [
    "<span style=\"color:black\"> *!!!! The 2 class is not linarly seperable.* </span>"
   ]
  },
  {
   "cell_type": "code",
   "execution_count": null,
   "metadata": {},
   "outputs": [],
   "source": []
  }
 ],
 "metadata": {
  "kernelspec": {
   "display_name": "Python 3",
   "language": "python",
   "name": "python3"
  },
  "language_info": {
   "codemirror_mode": {
    "name": "ipython",
    "version": 3
   },
   "file_extension": ".py",
   "mimetype": "text/x-python",
   "name": "python",
   "nbconvert_exporter": "python",
   "pygments_lexer": "ipython3",
   "version": "3.7.6"
  }
 },
 "nbformat": 4,
 "nbformat_minor": 4
}
